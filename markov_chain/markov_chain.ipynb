{
 "cells": [
  {
   "cell_type": "code",
   "execution_count": 2,
   "outputs": [
    {
     "data": {
      "text/plain": "Matrix([\n[  1,   0,   0,   0,   0],\n[1/2,   0, 1/2,   0,   0],\n[  0, 1/2,   0, 1/2,   0],\n[  0,   0,   0, 1/3, 2/3],\n[  0,   0,   0, 2/3, 1/3]])",
      "text/latex": "$\\displaystyle \\left[\\begin{matrix}1 & 0 & 0 & 0 & 0\\\\\\frac{1}{2} & 0 & \\frac{1}{2} & 0 & 0\\\\0 & \\frac{1}{2} & 0 & \\frac{1}{2} & 0\\\\0 & 0 & 0 & \\frac{1}{3} & \\frac{2}{3}\\\\0 & 0 & 0 & \\frac{2}{3} & \\frac{1}{3}\\end{matrix}\\right]$"
     },
     "execution_count": 2,
     "metadata": {},
     "output_type": "execute_result"
    }
   ],
   "source": [
    "from sympy import Matrix, Rational\n",
    "import numpy as np\n",
    "\n",
    "# Define the transition matrix using sympy with exact fractions\n",
    "P = Matrix([\n",
    "    [Rational(1),   Rational(0),   Rational(0),   Rational(0),   Rational(0)],\n",
    "    [Rational(1,2), Rational(0),   Rational(1,2), Rational(0),   Rational(0)],\n",
    "    [Rational(0),   Rational(1,2), Rational(0),   Rational(1,2), Rational(0)],\n",
    "    [Rational(0),   Rational(0),   Rational(0), Rational(1,3),   Rational(2,3)],\n",
    "    [Rational(0),   Rational(0),   Rational(0),   Rational(2,3), Rational(1,3)]\n",
    "])\n",
    "\n",
    "# Display the matrix\n",
    "P\n"
   ],
   "metadata": {
    "collapsed": false,
    "pycharm": {
     "name": "#%%\n"
    }
   }
  },
  {
   "cell_type": "code",
   "execution_count": 88,
   "outputs": [
    {
     "data": {
      "text/plain": "Matrix([\n[  1,   0,   0,   0,   0],\n[1/2, 1/4,   0, 1/4,   0],\n[1/4,   0, 1/4, 1/6, 1/3],\n[  0,   0,   0, 5/9, 4/9],\n[  0,   0,   0, 4/9, 5/9]])",
      "text/latex": "$\\displaystyle \\left[\\begin{matrix}1 & 0 & 0 & 0 & 0\\\\\\frac{1}{2} & \\frac{1}{4} & 0 & \\frac{1}{4} & 0\\\\\\frac{1}{4} & 0 & \\frac{1}{4} & \\frac{1}{6} & \\frac{1}{3}\\\\0 & 0 & 0 & \\frac{5}{9} & \\frac{4}{9}\\\\0 & 0 & 0 & \\frac{4}{9} & \\frac{5}{9}\\end{matrix}\\right]$"
     },
     "execution_count": 88,
     "metadata": {},
     "output_type": "execute_result"
    }
   ],
   "source": [
    "P**2"
   ],
   "metadata": {
    "collapsed": false,
    "pycharm": {
     "name": "#%%\n"
    }
   }
  },
  {
   "cell_type": "code",
   "execution_count": 89,
   "outputs": [
    {
     "data": {
      "text/plain": "Matrix([\n[  1,   0,   0,     0,     0],\n[5/8,   0, 1/8,  1/12,   1/6],\n[1/4, 1/8,   0, 29/72,   2/9],\n[  0,   0,   0, 13/27, 14/27],\n[  0,   0,   0, 14/27, 13/27]])",
      "text/latex": "$\\displaystyle \\left[\\begin{matrix}1 & 0 & 0 & 0 & 0\\\\\\frac{5}{8} & 0 & \\frac{1}{8} & \\frac{1}{12} & \\frac{1}{6}\\\\\\frac{1}{4} & \\frac{1}{8} & 0 & \\frac{29}{72} & \\frac{2}{9}\\\\0 & 0 & 0 & \\frac{13}{27} & \\frac{14}{27}\\\\0 & 0 & 0 & \\frac{14}{27} & \\frac{13}{27}\\end{matrix}\\right]$"
     },
     "execution_count": 89,
     "metadata": {},
     "output_type": "execute_result"
    }
   ],
   "source": [
    "P**3"
   ],
   "metadata": {
    "collapsed": false,
    "pycharm": {
     "name": "#%%\n"
    }
   }
  },
  {
   "cell_type": "code",
   "execution_count": 90,
   "outputs": [
    {
     "data": {
      "text/plain": "Matrix([\n[   1,    0,    0,      0,      0],\n[ 5/8, 1/16,    0, 29/144,    1/9],\n[5/16,    0, 1/16, 61/216, 37/108],\n[   0,    0,    0,  41/81,  40/81],\n[   0,    0,    0,  40/81,  41/81]])",
      "text/latex": "$\\displaystyle \\left[\\begin{matrix}1 & 0 & 0 & 0 & 0\\\\\\frac{5}{8} & \\frac{1}{16} & 0 & \\frac{29}{144} & \\frac{1}{9}\\\\\\frac{5}{16} & 0 & \\frac{1}{16} & \\frac{61}{216} & \\frac{37}{108}\\\\0 & 0 & 0 & \\frac{41}{81} & \\frac{40}{81}\\\\0 & 0 & 0 & \\frac{40}{81} & \\frac{41}{81}\\end{matrix}\\right]$"
     },
     "execution_count": 90,
     "metadata": {},
     "output_type": "execute_result"
    }
   ],
   "source": [
    "P**4"
   ],
   "metadata": {
    "collapsed": false,
    "pycharm": {
     "name": "#%%\n"
    }
   }
  },
  {
   "cell_type": "code",
   "execution_count": 91,
   "outputs": [
    {
     "data": {
      "text/plain": "Matrix([\n[    1,    0,    0,        0,       0],\n[21/32,    0, 1/32,   61/432,  37/216],\n[ 5/16, 1/32,    0, 917/2592,  49/162],\n[    0,    0,    0,  121/243, 122/243],\n[    0,    0,    0,  122/243, 121/243]])",
      "text/latex": "$\\displaystyle \\left[\\begin{matrix}1 & 0 & 0 & 0 & 0\\\\\\frac{21}{32} & 0 & \\frac{1}{32} & \\frac{61}{432} & \\frac{37}{216}\\\\\\frac{5}{16} & \\frac{1}{32} & 0 & \\frac{917}{2592} & \\frac{49}{162}\\\\0 & 0 & 0 & \\frac{121}{243} & \\frac{122}{243}\\\\0 & 0 & 0 & \\frac{122}{243} & \\frac{121}{243}\\end{matrix}\\right]$"
     },
     "execution_count": 91,
     "metadata": {},
     "output_type": "execute_result"
    }
   ],
   "source": [
    "P**5"
   ],
   "metadata": {
    "collapsed": false,
    "pycharm": {
     "name": "#%%\n"
    }
   }
  },
  {
   "cell_type": "code",
   "execution_count": 92,
   "outputs": [
    {
     "data": {
      "text/plain": "Matrix([\n[    1,    0,    0,         0,         0],\n[21/32, 1/64,    0,  917/5184,    49/324],\n[21/64,    0, 1/64, 2485/7776, 1309/3888],\n[    0,    0,    0,   365/729,   364/729],\n[    0,    0,    0,   364/729,   365/729]])",
      "text/latex": "$\\displaystyle \\left[\\begin{matrix}1 & 0 & 0 & 0 & 0\\\\\\frac{21}{32} & \\frac{1}{64} & 0 & \\frac{917}{5184} & \\frac{49}{324}\\\\\\frac{21}{64} & 0 & \\frac{1}{64} & \\frac{2485}{7776} & \\frac{1309}{3888}\\\\0 & 0 & 0 & \\frac{365}{729} & \\frac{364}{729}\\\\0 & 0 & 0 & \\frac{364}{729} & \\frac{365}{729}\\end{matrix}\\right]$"
     },
     "execution_count": 92,
     "metadata": {},
     "output_type": "execute_result"
    }
   ],
   "source": [
    "P**6"
   ],
   "metadata": {
    "collapsed": false,
    "pycharm": {
     "name": "#%%\n"
    }
   }
  },
  {
   "cell_type": "code",
   "execution_count": 93,
   "outputs": [
    {
     "data": {
      "text/plain": "Matrix([\n[     1,     0,     0,           0,         0],\n[85/128,     0, 1/128,  2485/15552, 1309/7776],\n[ 21/64, 1/128,     0, 31613/93312, 1897/5832],\n[     0,     0,     0,   1093/2187, 1094/2187],\n[     0,     0,     0,   1094/2187, 1093/2187]])",
      "text/latex": "$\\displaystyle \\left[\\begin{matrix}1 & 0 & 0 & 0 & 0\\\\\\frac{85}{128} & 0 & \\frac{1}{128} & \\frac{2485}{15552} & \\frac{1309}{7776}\\\\\\frac{21}{64} & \\frac{1}{128} & 0 & \\frac{31613}{93312} & \\frac{1897}{5832}\\\\0 & 0 & 0 & \\frac{1093}{2187} & \\frac{1094}{2187}\\\\0 & 0 & 0 & \\frac{1094}{2187} & \\frac{1093}{2187}\\end{matrix}\\right]$"
     },
     "execution_count": 93,
     "metadata": {},
     "output_type": "execute_result"
    }
   ],
   "source": [
    "P**7"
   ],
   "metadata": {
    "collapsed": false,
    "pycharm": {
     "name": "#%%\n"
    }
   }
  },
  {
   "cell_type": "code",
   "execution_count": 103,
   "outputs": [],
   "source": [
    "# Define the transition matrix P using numpy arrays with rational numbers\n",
    "P_np = np.array([\n",
    "    [1,   0,   0,   0,   0],\n",
    "    [1/2, 0,   1/2, 0,   0],\n",
    "    [0,   1/2, 0,   1/2, 0],\n",
    "    [0,   0,   0,  1/3,   2/3],\n",
    "    [0,   0,   0,   2/3, 1/3]\n",
    "], dtype=np.float64)\n",
    "\n",
    "# Calculat # Ue P^n for a large n to approximate the limiting behavior\n",
    "n = int(1e8)\n",
    "P_np_n = np.linalg.matrix_power(P_np, n)"
   ],
   "metadata": {
    "collapsed": false,
    "pycharm": {
     "name": "#%%\n"
    }
   }
  },
  {
   "cell_type": "code",
   "execution_count": 104,
   "outputs": [
    {
     "data": {
      "text/plain": "array([[1.        , 0.        , 0.        , 0.        , 0.        ],\n       [0.66666667, 0.        , 0.        , 0.16666667, 0.16666667],\n       [0.33333333, 0.        , 0.        , 0.33333333, 0.33333333],\n       [0.        , 0.        , 0.        , 0.5       , 0.5       ],\n       [0.        , 0.        , 0.        , 0.5       , 0.5       ]])"
     },
     "execution_count": 104,
     "metadata": {},
     "output_type": "execute_result"
    }
   ],
   "source": [
    "P_np_n"
   ],
   "metadata": {
    "collapsed": false,
    "pycharm": {
     "name": "#%%\n"
    }
   }
  },
  {
   "cell_type": "code",
   "execution_count": 105,
   "outputs": [
    {
     "data": {
      "text/plain": "array([0.5 , 0.  , 0.  , 0.25, 0.25])"
     },
     "execution_count": 105,
     "metadata": {},
     "output_type": "execute_result"
    }
   ],
   "source": [
    "np.dot(np.array([0,0.5,0.5,0,0]), P_np_n)"
   ],
   "metadata": {
    "collapsed": false,
    "pycharm": {
     "name": "#%%\n"
    }
   }
  },
  {
   "cell_type": "code",
   "execution_count": 110,
   "outputs": [],
   "source": [
    "Prw = np.array([\n",
    "    [0,   0,   0,   1/2, 0,   1/2],\n",
    "    [0,   0,   0,   0,   1/2, 1/2],\n",
    "    [0,   0,   0,   1/2, 1/2, 0],\n",
    "    [1/4, 0,   1/4, 0,   1/4, 1/4],\n",
    "    [0,   1/4, 1/4, 1/4,  0, 1/4],\n",
    "    [1/4, 1/4, 0,   1/4, 1/4, 0]\n",
    "])"
   ],
   "metadata": {
    "collapsed": false,
    "pycharm": {
     "name": "#%%\n"
    }
   }
  },
  {
   "cell_type": "code",
   "execution_count": 111,
   "outputs": [
    {
     "data": {
      "text/plain": "array([0.11111111, 0.11111111, 0.11111111, 0.22222222, 0.22222222,\n       0.22222222])"
     },
     "execution_count": 111,
     "metadata": {},
     "output_type": "execute_result"
    }
   ],
   "source": [
    "np.dot(np.array([1/6,1/6,1/6,1/6,1/6,1/6]), np.linalg.matrix_power(Prw, int(1e8)))"
   ],
   "metadata": {
    "collapsed": false,
    "pycharm": {
     "name": "#%%\n"
    }
   }
  },
  {
   "cell_type": "code",
   "execution_count": 112,
   "outputs": [
    {
     "data": {
      "text/plain": "array([[0.11111111, 0.11111111, 0.11111111, 0.22222222, 0.22222222,\n        0.22222222],\n       [0.11111111, 0.11111111, 0.11111111, 0.22222222, 0.22222222,\n        0.22222222],\n       [0.11111111, 0.11111111, 0.11111111, 0.22222222, 0.22222222,\n        0.22222222],\n       [0.11111111, 0.11111111, 0.11111111, 0.22222222, 0.22222222,\n        0.22222222],\n       [0.11111111, 0.11111111, 0.11111111, 0.22222222, 0.22222222,\n        0.22222222],\n       [0.11111111, 0.11111111, 0.11111111, 0.22222222, 0.22222222,\n        0.22222222]])"
     },
     "execution_count": 112,
     "metadata": {},
     "output_type": "execute_result"
    }
   ],
   "source": [
    "np.linalg.matrix_power(Prw, int(1e8))"
   ],
   "metadata": {
    "collapsed": false,
    "pycharm": {
     "name": "#%%\n"
    }
   }
  },
  {
   "cell_type": "code",
   "execution_count": 113,
   "outputs": [
    {
     "data": {
      "text/plain": "array([0.11111111, 0.11111111, 0.11111111, 0.22222222, 0.22222222,\n       0.22222222])"
     },
     "execution_count": 113,
     "metadata": {},
     "output_type": "execute_result"
    }
   ],
   "source": [
    "np.dot(np.array([1,0,0,0,0,0]), np.linalg.matrix_power(Prw, int(1e8)))"
   ],
   "metadata": {
    "collapsed": false,
    "pycharm": {
     "name": "#%%\n"
    }
   }
  },
  {
   "cell_type": "code",
   "execution_count": 114,
   "outputs": [
    {
     "data": {
      "text/plain": "array([0.11111111, 0.11111111, 0.11111111, 0.22222222, 0.22222222,\n       0.22222222])"
     },
     "execution_count": 114,
     "metadata": {},
     "output_type": "execute_result"
    }
   ],
   "source": [
    "import numpy as np\n",
    "\n",
    "# Number of states in the Markov chain\n",
    "n = Prw.shape[0]\n",
    "\n",
    "# Create an augmented matrix (P.T - I)\n",
    "A = Prw.T - np.eye(n)\n",
    "\n",
    "# Add the normalization constraint as an additional row at the bottom\n",
    "A = np.vstack([A, np.ones(n)])\n",
    "\n",
    "# Create the augmented matrix for the right-hand side which is all zeros and a one for the normalization\n",
    "b = np.zeros(n+1)\n",
    "b[-1] = 1\n",
    "\n",
    "# Solve the system using the least squares method since the system is overdetermined\n",
    "pi, residuals, rank, s = np.linalg.lstsq(A, b, rcond=None)\n",
    "\n",
    "pi\n"
   ],
   "metadata": {
    "collapsed": false,
    "pycharm": {
     "name": "#%%\n"
    }
   }
  },
  {
   "cell_type": "code",
   "execution_count": 116,
   "outputs": [
    {
     "data": {
      "text/plain": "array([ 3.33333333e-01,  5.55111512e-17, -1.38777878e-16,  3.33333333e-01,\n        3.33333333e-01])"
     },
     "execution_count": 116,
     "metadata": {},
     "output_type": "execute_result"
    }
   ],
   "source": [],
   "metadata": {
    "collapsed": false,
    "pycharm": {
     "name": "#%%\n"
    }
   }
  },
  {
   "cell_type": "code",
   "execution_count": 11,
   "outputs": [
    {
     "data": {
      "text/plain": "Matrix([\n[  1,   0,   0,   0,   0,   0],\n[  0,   1,   0,   0,   0,   0],\n[  0,   0,   1,   0,   0,   0],\n[1/4,   0, 1/4,   0, 1/4, 1/4],\n[  0, 1/4, 1/4,   0, 1/4, 1/4],\n[1/4, 1/4,   0, 1/4, 1/4,   0]])",
      "text/latex": "$\\displaystyle \\left[\\begin{matrix}1 & 0 & 0 & 0 & 0 & 0\\\\0 & 1 & 0 & 0 & 0 & 0\\\\0 & 0 & 1 & 0 & 0 & 0\\\\\\frac{1}{4} & 0 & \\frac{1}{4} & 0 & \\frac{1}{4} & \\frac{1}{4}\\\\0 & \\frac{1}{4} & \\frac{1}{4} & 0 & \\frac{1}{4} & \\frac{1}{4}\\\\\\frac{1}{4} & \\frac{1}{4} & 0 & \\frac{1}{4} & \\frac{1}{4} & 0\\end{matrix}\\right]$"
     },
     "execution_count": 11,
     "metadata": {},
     "output_type": "execute_result"
    }
   ],
   "source": [
    "# Define the transition matrix using sympy with exact fractions\n",
    "P_3c = Matrix([\n",
    "    [Rational(1),   Rational(0),   Rational(0),   Rational(0),   Rational(0), Rational(0),],\n",
    "    [Rational(0),   Rational(1),   Rational(0),   Rational(0),   Rational(0), Rational(0),],\n",
    "    [Rational(0),   Rational(0),   Rational(1),   Rational(0),   Rational(0), Rational(0),],\n",
    "    [Rational(1,4),   Rational(0),   Rational(1,4),   Rational(0),   Rational(1,4), Rational(1,4),],\n",
    "    [Rational(0),   Rational(1,4),   Rational(1,4),   Rational(0),   Rational(1,4), Rational(1,4),],\n",
    "    [Rational(1,4),   Rational(1,4),   Rational(0),   Rational(1,4),   Rational(1,4), Rational(0),]\n",
    "])\n",
    "\n",
    "# Display the matrix\n",
    "P_3c"
   ],
   "metadata": {
    "collapsed": false,
    "pycharm": {
     "name": "#%%\n"
    }
   }
  },
  {
   "cell_type": "code",
   "execution_count": 12,
   "outputs": [
    {
     "data": {
      "text/plain": "Matrix([[0, 0, 0, 0, 0, 1]])",
      "text/latex": "$\\displaystyle \\left[\\begin{matrix}0 & 0 & 0 & 0 & 0 & 1\\end{matrix}\\right]$"
     },
     "execution_count": 12,
     "metadata": {},
     "output_type": "execute_result"
    }
   ],
   "source": [
    "mu_0 = Matrix([\n",
    "    [Rational(0), Rational(0), Rational(0), Rational(0), Rational(0), Rational(1),]\n",
    "])\n",
    "mu_0"
   ],
   "metadata": {
    "collapsed": false,
    "pycharm": {
     "name": "#%%\n"
    }
   }
  },
  {
   "cell_type": "code",
   "execution_count": 13,
   "outputs": [
    {
     "data": {
      "text/plain": "Matrix([[1/4, 1/4, 0, 1/4, 1/4, 0]])",
      "text/latex": "$\\displaystyle \\left[\\begin{matrix}\\frac{1}{4} & \\frac{1}{4} & 0 & \\frac{1}{4} & \\frac{1}{4} & 0\\end{matrix}\\right]$"
     },
     "execution_count": 13,
     "metadata": {},
     "output_type": "execute_result"
    }
   ],
   "source": [
    "mu_0 * P_3c"
   ],
   "metadata": {
    "collapsed": false,
    "pycharm": {
     "name": "#%%\n"
    }
   }
  },
  {
   "cell_type": "code",
   "execution_count": null,
   "outputs": [],
   "source": [],
   "metadata": {
    "collapsed": false,
    "pycharm": {
     "name": "#%%\n"
    }
   }
  }
 ],
 "metadata": {
  "kernelspec": {
   "display_name": "Python 3",
   "language": "python",
   "name": "python3"
  },
  "language_info": {
   "codemirror_mode": {
    "name": "ipython",
    "version": 2
   },
   "file_extension": ".py",
   "mimetype": "text/x-python",
   "name": "python",
   "nbconvert_exporter": "python",
   "pygments_lexer": "ipython2",
   "version": "2.7.6"
  }
 },
 "nbformat": 4,
 "nbformat_minor": 0
}