{
 "cells": [
  {
   "cell_type": "code",
   "execution_count": null,
   "metadata": {
    "collapsed": true,
    "pycharm": {
     "name": "#%%\n"
    }
   },
   "outputs": [],
   "source": []
  },
  {
   "cell_type": "code",
   "execution_count": 3,
   "outputs": [
    {
     "data": {
      "text/plain": "{('o', 'o'): 0,\n ('o', 'a'): 0,\n ('o', 'b'): 0,\n ('o', 'c'): 0.5,\n ('o', 'd'): 0,\n ('o', 'e'): 0.5}"
     },
     "execution_count": 3,
     "metadata": {},
     "output_type": "execute_result"
    }
   ],
   "source": [
    "states = ['o', 'a', 'b', 'c', 'd', 'e']\n",
    "\n",
    "\n",
    "# Output the updated graph connectivity\n",
    "graph_connectivity = dict()\n",
    "\n",
    "for i in states:\n",
    "    for j in states:\n",
    "        if i == 'o' and j in {'c', 'e'}:\n",
    "            graph_connectivity[i,j] = 1/2\n",
    "        elif i == 'a' and j in {'d', 'e'}:\n",
    "            graph_connectivity[i,j] = 1/2\n",
    "        elif i == 'b' and j in {'c', 'd'}:\n",
    "            graph_connectivity[i,j] = 1/2\n",
    "        elif i == 'c' and not j in {i,'a'}:\n",
    "            graph_connectivity[i,j] = 1/4\n",
    "        elif i == 'd' and not j in {i, 'o'}:\n",
    "            graph_connectivity[i,j] = 1/4\n",
    "        elif i == 'e' and not j in{i, 'b'}:\n",
    "            graph_connectivity[i,j] = 1/4\n",
    "        else:\n",
    "            graph_connectivity[i,j] = 0\n",
    "{('o', j): graph_connectivity[('o', j)] for j in states}"
   ],
   "metadata": {
    "collapsed": false,
    "pycharm": {
     "name": "#%%\n"
    }
   }
  },
  {
   "cell_type": "code",
   "execution_count": 16,
   "outputs": [
    {
     "data": {
      "text/plain": "(24, 576)"
     },
     "execution_count": 16,
     "metadata": {},
     "output_type": "execute_result"
    }
   ],
   "source": [
    "# Original states and visitation status\n",
    "states = ['o', 'a', 'b', 'c', 'd', 'e']\n",
    "visitation_status = ['None', 'A', 'B', 'AB']\n",
    "\n",
    "# Create an augmented state space\n",
    "augmented_states = [(s, vs) for s in states for vs in visitation_status]\n",
    "\n",
    "# Define augmented graph connectivity based on the original graph connectivity\n",
    "augmented_graph_connectivity = dict()\n",
    "for (i,k) in augmented_states:\n",
    "    for (j,l) in augmented_states:\n",
    "        augmented_graph_connectivity[(i,k),(j,l)] = 0\n",
    "\n",
    "# Display augmented graph connectivity\n",
    "len(augmented_states), len(augmented_graph_connectivity), # augmented_graph_connectivity"
   ],
   "metadata": {
    "collapsed": false,
    "pycharm": {
     "name": "#%%\n"
    }
   }
  },
  {
   "cell_type": "code",
   "execution_count": 40,
   "outputs": [
    {
     "data": {
      "text/plain": "576"
     },
     "execution_count": 40,
     "metadata": {},
     "output_type": "execute_result"
    }
   ],
   "source": [
    "for i in states:\n",
    "    for j in states:\n",
    "        if i == 'o' and j in {'c', 'e'}:\n",
    "            # \"visiting c,e does not change the status\"\n",
    "            for k in visitation_status:\n",
    "                augmented_graph_connectivity[(i,k), (j,k)] = 1/2 * 1/3\n",
    "        elif i == 'a' and j in {'d', 'e'}:\n",
    "            # \"visiting d,e does not change the status\"\n",
    "            for k in visitation_status:\n",
    "                augmented_graph_connectivity[(i,k), (j,k)] = 1/2 * 1/3\n",
    "        elif i == 'b' and j in {'c', 'd'}:\n",
    "            # \"visiting c,d does not change the status\"\n",
    "            for k in visitation_status:\n",
    "                augmented_graph_connectivity[(i,k), (j,k)] = 1/2 * 1/3\n",
    "        elif i == 'c' and not j in {i,'a'}:\n",
    "            # visiting 'b' could lead to a status change\n",
    "            for k in visitation_status:\n",
    "                if k == 'None':\n",
    "                    augmented_graph_connectivity[(i,k), (j,'B')] = 1/4\n",
    "                elif k == \"A\":\n",
    "                    augmented_graph_connectivity[(i,k), (j,'AB')] = 1/4\n",
    "                elif k == \"B\":\n",
    "                    augmented_graph_connectivity[(i,k), (j,k)] = 1/4\n",
    "\n",
    "        elif i == 'd' and not j in {i, 'o'}:\n",
    "            # visiting 'a' or 'b' could lead to a status change\n",
    "            for k in visitation_status:\n",
    "                if k == 'None' and j == 'a':\n",
    "                    augmented_graph_connectivity[(i,k), (j,'A')] = 1/4\n",
    "                elif k == 'B' and j == 'a':\n",
    "                    augmented_graph_connectivity[(i,k), (j,'AB')] = 1/4\n",
    "                if k == 'None' and j == 'b':\n",
    "                    augmented_graph_connectivity[(i,k), (j,'B')] = 1/4\n",
    "                elif k == 'A' and j == 'b':\n",
    "                    augmented_graph_connectivity[(i,k), (j,'AB')] = 1/4\n",
    "        elif i == 'e' and not j in{i, 'b'}:\n",
    "            # visiting 'a' or 'b' could lead to a status change\n",
    "            for k in visitation_status:\n",
    "                if k == 'None':\n",
    "                    augmented_graph_connectivity[(i,k), (j,'A')] = 1/4\n",
    "                elif k == \"B\":\n",
    "                    augmented_graph_connectivity[(i,k), (j,'AB')] = 1/4\n",
    "                elif k == \"A\":\n",
    "                    augmented_graph_connectivity[(i,k), (j,k)] = 1/4\n",
    "\n",
    "\n",
    "len(augmented_graph_connectivity)"
   ],
   "metadata": {
    "collapsed": false,
    "pycharm": {
     "name": "#%%\n"
    }
   }
  },
  {
   "cell_type": "code",
   "execution_count": 36,
   "outputs": [
    {
     "data": {
      "text/plain": "{(('o', 'None'), ('o', 'None')): 0,\n (('o', 'None'), ('o', 'A')): 0,\n (('o', 'None'), ('o', 'B')): 0,\n (('o', 'None'), ('o', 'AB')): 0,\n (('o', 'None'), ('a', 'None')): 0,\n (('o', 'None'), ('a', 'A')): 0,\n (('o', 'None'), ('a', 'B')): 0,\n (('o', 'None'), ('a', 'AB')): 0,\n (('o', 'None'), ('b', 'None')): 0,\n (('o', 'None'), ('b', 'A')): 0,\n (('o', 'None'), ('b', 'B')): 0,\n (('o', 'None'), ('b', 'AB')): 0,\n (('o', 'None'), ('c', 'None')): 0.5,\n (('o', 'None'), ('c', 'A')): 0,\n (('o', 'None'), ('c', 'B')): 0,\n (('o', 'None'), ('c', 'AB')): 0,\n (('o', 'None'), ('d', 'None')): 0,\n (('o', 'None'), ('d', 'A')): 0,\n (('o', 'None'), ('d', 'B')): 0,\n (('o', 'None'), ('d', 'AB')): 0,\n (('o', 'None'), ('e', 'None')): 0.5,\n (('o', 'None'), ('e', 'A')): 0,\n (('o', 'None'), ('e', 'B')): 0,\n (('o', 'None'), ('e', 'AB')): 0,\n (('o', 'A'), ('o', 'None')): 0,\n (('o', 'A'), ('o', 'A')): 0,\n (('o', 'A'), ('o', 'B')): 0,\n (('o', 'A'), ('o', 'AB')): 0,\n (('o', 'A'), ('a', 'None')): 0,\n (('o', 'A'), ('a', 'A')): 0,\n (('o', 'A'), ('a', 'B')): 0,\n (('o', 'A'), ('a', 'AB')): 0,\n (('o', 'A'), ('b', 'None')): 0,\n (('o', 'A'), ('b', 'A')): 0,\n (('o', 'A'), ('b', 'B')): 0,\n (('o', 'A'), ('b', 'AB')): 0,\n (('o', 'A'), ('c', 'None')): 0,\n (('o', 'A'), ('c', 'A')): 0.5,\n (('o', 'A'), ('c', 'B')): 0,\n (('o', 'A'), ('c', 'AB')): 0,\n (('o', 'A'), ('d', 'None')): 0,\n (('o', 'A'), ('d', 'A')): 0,\n (('o', 'A'), ('d', 'B')): 0,\n (('o', 'A'), ('d', 'AB')): 0,\n (('o', 'A'), ('e', 'None')): 0,\n (('o', 'A'), ('e', 'A')): 0.5,\n (('o', 'A'), ('e', 'B')): 0,\n (('o', 'A'), ('e', 'AB')): 0,\n (('o', 'B'), ('o', 'None')): 0,\n (('o', 'B'), ('o', 'A')): 0,\n (('o', 'B'), ('o', 'B')): 0,\n (('o', 'B'), ('o', 'AB')): 0,\n (('o', 'B'), ('a', 'None')): 0,\n (('o', 'B'), ('a', 'A')): 0,\n (('o', 'B'), ('a', 'B')): 0,\n (('o', 'B'), ('a', 'AB')): 0,\n (('o', 'B'), ('b', 'None')): 0,\n (('o', 'B'), ('b', 'A')): 0,\n (('o', 'B'), ('b', 'B')): 0,\n (('o', 'B'), ('b', 'AB')): 0,\n (('o', 'B'), ('c', 'None')): 0,\n (('o', 'B'), ('c', 'A')): 0,\n (('o', 'B'), ('c', 'B')): 0.5,\n (('o', 'B'), ('c', 'AB')): 0,\n (('o', 'B'), ('d', 'None')): 0,\n (('o', 'B'), ('d', 'A')): 0,\n (('o', 'B'), ('d', 'B')): 0,\n (('o', 'B'), ('d', 'AB')): 0,\n (('o', 'B'), ('e', 'None')): 0,\n (('o', 'B'), ('e', 'A')): 0,\n (('o', 'B'), ('e', 'B')): 0.5,\n (('o', 'B'), ('e', 'AB')): 0,\n (('o', 'AB'), ('o', 'None')): 0,\n (('o', 'AB'), ('o', 'A')): 0,\n (('o', 'AB'), ('o', 'B')): 0,\n (('o', 'AB'), ('o', 'AB')): 1,\n (('o', 'AB'), ('a', 'None')): 0,\n (('o', 'AB'), ('a', 'A')): 0,\n (('o', 'AB'), ('a', 'B')): 0,\n (('o', 'AB'), ('a', 'AB')): 0,\n (('o', 'AB'), ('b', 'None')): 0,\n (('o', 'AB'), ('b', 'A')): 0,\n (('o', 'AB'), ('b', 'B')): 0,\n (('o', 'AB'), ('b', 'AB')): 0,\n (('o', 'AB'), ('c', 'None')): 0,\n (('o', 'AB'), ('c', 'A')): 0,\n (('o', 'AB'), ('c', 'B')): 0,\n (('o', 'AB'), ('c', 'AB')): 0.5,\n (('o', 'AB'), ('d', 'None')): 0,\n (('o', 'AB'), ('d', 'A')): 0,\n (('o', 'AB'), ('d', 'B')): 0,\n (('o', 'AB'), ('d', 'AB')): 0,\n (('o', 'AB'), ('e', 'None')): 0,\n (('o', 'AB'), ('e', 'A')): 0,\n (('o', 'AB'), ('e', 'B')): 0,\n (('o', 'AB'), ('e', 'AB')): 0.5,\n (('a', 'None'), ('o', 'None')): 0,\n (('a', 'None'), ('o', 'A')): 0,\n (('a', 'None'), ('o', 'B')): 0,\n (('a', 'None'), ('o', 'AB')): 0,\n (('a', 'None'), ('a', 'None')): 0,\n (('a', 'None'), ('a', 'A')): 0,\n (('a', 'None'), ('a', 'B')): 0,\n (('a', 'None'), ('a', 'AB')): 0,\n (('a', 'None'), ('b', 'None')): 0,\n (('a', 'None'), ('b', 'A')): 0,\n (('a', 'None'), ('b', 'B')): 0,\n (('a', 'None'), ('b', 'AB')): 0,\n (('a', 'None'), ('c', 'None')): 0,\n (('a', 'None'), ('c', 'A')): 0,\n (('a', 'None'), ('c', 'B')): 0,\n (('a', 'None'), ('c', 'AB')): 0,\n (('a', 'None'), ('d', 'None')): 0.5,\n (('a', 'None'), ('d', 'A')): 0,\n (('a', 'None'), ('d', 'B')): 0,\n (('a', 'None'), ('d', 'AB')): 0,\n (('a', 'None'), ('e', 'None')): 0.5,\n (('a', 'None'), ('e', 'A')): 0,\n (('a', 'None'), ('e', 'B')): 0,\n (('a', 'None'), ('e', 'AB')): 0,\n (('a', 'A'), ('o', 'None')): 0,\n (('a', 'A'), ('o', 'A')): 0,\n (('a', 'A'), ('o', 'B')): 0,\n (('a', 'A'), ('o', 'AB')): 0,\n (('a', 'A'), ('a', 'None')): 0,\n (('a', 'A'), ('a', 'A')): 0,\n (('a', 'A'), ('a', 'B')): 0,\n (('a', 'A'), ('a', 'AB')): 0,\n (('a', 'A'), ('b', 'None')): 0,\n (('a', 'A'), ('b', 'A')): 0,\n (('a', 'A'), ('b', 'B')): 0,\n (('a', 'A'), ('b', 'AB')): 0,\n (('a', 'A'), ('c', 'None')): 0,\n (('a', 'A'), ('c', 'A')): 0,\n (('a', 'A'), ('c', 'B')): 0,\n (('a', 'A'), ('c', 'AB')): 0,\n (('a', 'A'), ('d', 'None')): 0,\n (('a', 'A'), ('d', 'A')): 0.5,\n (('a', 'A'), ('d', 'B')): 0,\n (('a', 'A'), ('d', 'AB')): 0,\n (('a', 'A'), ('e', 'None')): 0,\n (('a', 'A'), ('e', 'A')): 0.5,\n (('a', 'A'), ('e', 'B')): 0,\n (('a', 'A'), ('e', 'AB')): 0,\n (('a', 'B'), ('o', 'None')): 0,\n (('a', 'B'), ('o', 'A')): 0,\n (('a', 'B'), ('o', 'B')): 0,\n (('a', 'B'), ('o', 'AB')): 0,\n (('a', 'B'), ('a', 'None')): 0,\n (('a', 'B'), ('a', 'A')): 0,\n (('a', 'B'), ('a', 'B')): 0,\n (('a', 'B'), ('a', 'AB')): 0,\n (('a', 'B'), ('b', 'None')): 0,\n (('a', 'B'), ('b', 'A')): 0,\n (('a', 'B'), ('b', 'B')): 0,\n (('a', 'B'), ('b', 'AB')): 0,\n (('a', 'B'), ('c', 'None')): 0,\n (('a', 'B'), ('c', 'A')): 0,\n (('a', 'B'), ('c', 'B')): 0,\n (('a', 'B'), ('c', 'AB')): 0,\n (('a', 'B'), ('d', 'None')): 0,\n (('a', 'B'), ('d', 'A')): 0,\n (('a', 'B'), ('d', 'B')): 0.5,\n (('a', 'B'), ('d', 'AB')): 0,\n (('a', 'B'), ('e', 'None')): 0,\n (('a', 'B'), ('e', 'A')): 0,\n (('a', 'B'), ('e', 'B')): 0.5,\n (('a', 'B'), ('e', 'AB')): 0,\n (('a', 'AB'), ('o', 'None')): 0,\n (('a', 'AB'), ('o', 'A')): 0,\n (('a', 'AB'), ('o', 'B')): 0,\n (('a', 'AB'), ('o', 'AB')): 0,\n (('a', 'AB'), ('a', 'None')): 0,\n (('a', 'AB'), ('a', 'A')): 0,\n (('a', 'AB'), ('a', 'B')): 0,\n (('a', 'AB'), ('a', 'AB')): 1,\n (('a', 'AB'), ('b', 'None')): 0,\n (('a', 'AB'), ('b', 'A')): 0,\n (('a', 'AB'), ('b', 'B')): 0,\n (('a', 'AB'), ('b', 'AB')): 0,\n (('a', 'AB'), ('c', 'None')): 0,\n (('a', 'AB'), ('c', 'A')): 0,\n (('a', 'AB'), ('c', 'B')): 0,\n (('a', 'AB'), ('c', 'AB')): 0,\n (('a', 'AB'), ('d', 'None')): 0,\n (('a', 'AB'), ('d', 'A')): 0,\n (('a', 'AB'), ('d', 'B')): 0,\n (('a', 'AB'), ('d', 'AB')): 0,\n (('a', 'AB'), ('e', 'None')): 0,\n (('a', 'AB'), ('e', 'A')): 0,\n (('a', 'AB'), ('e', 'B')): 0,\n (('a', 'AB'), ('e', 'AB')): 0,\n (('b', 'None'), ('o', 'None')): 0,\n (('b', 'None'), ('o', 'A')): 0,\n (('b', 'None'), ('o', 'B')): 0,\n (('b', 'None'), ('o', 'AB')): 0,\n (('b', 'None'), ('a', 'None')): 0,\n (('b', 'None'), ('a', 'A')): 0,\n (('b', 'None'), ('a', 'B')): 0,\n (('b', 'None'), ('a', 'AB')): 0,\n (('b', 'None'), ('b', 'None')): 0,\n (('b', 'None'), ('b', 'A')): 0,\n (('b', 'None'), ('b', 'B')): 0,\n (('b', 'None'), ('b', 'AB')): 0,\n (('b', 'None'), ('c', 'None')): 0.5,\n (('b', 'None'), ('c', 'A')): 0,\n (('b', 'None'), ('c', 'B')): 0,\n (('b', 'None'), ('c', 'AB')): 0,\n (('b', 'None'), ('d', 'None')): 0.5,\n (('b', 'None'), ('d', 'A')): 0,\n (('b', 'None'), ('d', 'B')): 0,\n (('b', 'None'), ('d', 'AB')): 0,\n (('b', 'None'), ('e', 'None')): 0,\n (('b', 'None'), ('e', 'A')): 0,\n (('b', 'None'), ('e', 'B')): 0,\n (('b', 'None'), ('e', 'AB')): 0,\n (('b', 'A'), ('o', 'None')): 0,\n (('b', 'A'), ('o', 'A')): 0,\n (('b', 'A'), ('o', 'B')): 0,\n (('b', 'A'), ('o', 'AB')): 0,\n (('b', 'A'), ('a', 'None')): 0,\n (('b', 'A'), ('a', 'A')): 0,\n (('b', 'A'), ('a', 'B')): 0,\n (('b', 'A'), ('a', 'AB')): 0,\n (('b', 'A'), ('b', 'None')): 0,\n (('b', 'A'), ('b', 'A')): 0,\n (('b', 'A'), ('b', 'B')): 0,\n (('b', 'A'), ('b', 'AB')): 0,\n (('b', 'A'), ('c', 'None')): 0,\n (('b', 'A'), ('c', 'A')): 0.5,\n (('b', 'A'), ('c', 'B')): 0,\n (('b', 'A'), ('c', 'AB')): 0,\n (('b', 'A'), ('d', 'None')): 0,\n (('b', 'A'), ('d', 'A')): 0.5,\n (('b', 'A'), ('d', 'B')): 0,\n (('b', 'A'), ('d', 'AB')): 0,\n (('b', 'A'), ('e', 'None')): 0,\n (('b', 'A'), ('e', 'A')): 0,\n (('b', 'A'), ('e', 'B')): 0,\n (('b', 'A'), ('e', 'AB')): 0,\n (('b', 'B'), ('o', 'None')): 0,\n (('b', 'B'), ('o', 'A')): 0,\n (('b', 'B'), ('o', 'B')): 0,\n (('b', 'B'), ('o', 'AB')): 0,\n (('b', 'B'), ('a', 'None')): 0,\n (('b', 'B'), ('a', 'A')): 0,\n (('b', 'B'), ('a', 'B')): 0,\n (('b', 'B'), ('a', 'AB')): 0,\n (('b', 'B'), ('b', 'None')): 0,\n (('b', 'B'), ('b', 'A')): 0,\n (('b', 'B'), ('b', 'B')): 0,\n (('b', 'B'), ('b', 'AB')): 0,\n (('b', 'B'), ('c', 'None')): 0,\n (('b', 'B'), ('c', 'A')): 0,\n (('b', 'B'), ('c', 'B')): 0.5,\n (('b', 'B'), ('c', 'AB')): 0,\n (('b', 'B'), ('d', 'None')): 0,\n (('b', 'B'), ('d', 'A')): 0,\n (('b', 'B'), ('d', 'B')): 0.5,\n (('b', 'B'), ('d', 'AB')): 0,\n (('b', 'B'), ('e', 'None')): 0,\n (('b', 'B'), ('e', 'A')): 0,\n (('b', 'B'), ('e', 'B')): 0,\n (('b', 'B'), ('e', 'AB')): 0,\n (('b', 'AB'), ('o', 'None')): 0,\n (('b', 'AB'), ('o', 'A')): 0,\n (('b', 'AB'), ('o', 'B')): 0,\n (('b', 'AB'), ('o', 'AB')): 0,\n (('b', 'AB'), ('a', 'None')): 0,\n (('b', 'AB'), ('a', 'A')): 0,\n (('b', 'AB'), ('a', 'B')): 0,\n (('b', 'AB'), ('a', 'AB')): 0,\n (('b', 'AB'), ('b', 'None')): 0,\n (('b', 'AB'), ('b', 'A')): 0,\n (('b', 'AB'), ('b', 'B')): 0,\n (('b', 'AB'), ('b', 'AB')): 1,\n (('b', 'AB'), ('c', 'None')): 0,\n (('b', 'AB'), ('c', 'A')): 0,\n (('b', 'AB'), ('c', 'B')): 0,\n (('b', 'AB'), ('c', 'AB')): 0,\n (('b', 'AB'), ('d', 'None')): 0,\n (('b', 'AB'), ('d', 'A')): 0,\n (('b', 'AB'), ('d', 'B')): 0,\n (('b', 'AB'), ('d', 'AB')): 0,\n (('b', 'AB'), ('e', 'None')): 0,\n (('b', 'AB'), ('e', 'A')): 0,\n (('b', 'AB'), ('e', 'B')): 0,\n (('b', 'AB'), ('e', 'AB')): 0,\n (('c', 'None'), ('o', 'None')): 0,\n (('c', 'None'), ('o', 'A')): 0,\n (('c', 'None'), ('o', 'B')): 0.25,\n (('c', 'None'), ('o', 'AB')): 0,\n (('c', 'None'), ('a', 'None')): 0,\n (('c', 'None'), ('a', 'A')): 0,\n (('c', 'None'), ('a', 'B')): 0,\n (('c', 'None'), ('a', 'AB')): 0,\n (('c', 'None'), ('b', 'None')): 0,\n (('c', 'None'), ('b', 'A')): 0,\n (('c', 'None'), ('b', 'B')): 0.25,\n (('c', 'None'), ('b', 'AB')): 0,\n (('c', 'None'), ('c', 'None')): 0,\n (('c', 'None'), ('c', 'A')): 0,\n (('c', 'None'), ('c', 'B')): 0,\n (('c', 'None'), ('c', 'AB')): 0,\n (('c', 'None'), ('d', 'None')): 0,\n (('c', 'None'), ('d', 'A')): 0,\n (('c', 'None'), ('d', 'B')): 0.25,\n (('c', 'None'), ('d', 'AB')): 0,\n (('c', 'None'), ('e', 'None')): 0,\n (('c', 'None'), ('e', 'A')): 0,\n (('c', 'None'), ('e', 'B')): 0.25,\n (('c', 'None'), ('e', 'AB')): 0,\n (('c', 'A'), ('o', 'None')): 0,\n (('c', 'A'), ('o', 'A')): 0,\n (('c', 'A'), ('o', 'B')): 0,\n (('c', 'A'), ('o', 'AB')): 0.25,\n (('c', 'A'), ('a', 'None')): 0,\n (('c', 'A'), ('a', 'A')): 0,\n (('c', 'A'), ('a', 'B')): 0,\n (('c', 'A'), ('a', 'AB')): 0,\n (('c', 'A'), ('b', 'None')): 0,\n (('c', 'A'), ('b', 'A')): 0,\n (('c', 'A'), ('b', 'B')): 0,\n (('c', 'A'), ('b', 'AB')): 0.25,\n (('c', 'A'), ('c', 'None')): 0,\n (('c', 'A'), ('c', 'A')): 0,\n (('c', 'A'), ('c', 'B')): 0,\n (('c', 'A'), ('c', 'AB')): 0,\n (('c', 'A'), ('d', 'None')): 0,\n (('c', 'A'), ('d', 'A')): 0,\n (('c', 'A'), ('d', 'B')): 0,\n (('c', 'A'), ('d', 'AB')): 0.25,\n (('c', 'A'), ('e', 'None')): 0,\n (('c', 'A'), ('e', 'A')): 0,\n (('c', 'A'), ('e', 'B')): 0,\n (('c', 'A'), ('e', 'AB')): 0.25,\n (('c', 'B'), ('o', 'None')): 0,\n (('c', 'B'), ('o', 'A')): 0,\n (('c', 'B'), ('o', 'B')): 0,\n (('c', 'B'), ('o', 'AB')): 0,\n (('c', 'B'), ('a', 'None')): 0,\n (('c', 'B'), ('a', 'A')): 0,\n (('c', 'B'), ('a', 'B')): 0,\n (('c', 'B'), ('a', 'AB')): 0,\n (('c', 'B'), ('b', 'None')): 0,\n (('c', 'B'), ('b', 'A')): 0,\n (('c', 'B'), ('b', 'B')): 0,\n (('c', 'B'), ('b', 'AB')): 0,\n (('c', 'B'), ('c', 'None')): 0,\n (('c', 'B'), ('c', 'A')): 0,\n (('c', 'B'), ('c', 'B')): 0,\n (('c', 'B'), ('c', 'AB')): 0,\n (('c', 'B'), ('d', 'None')): 0,\n (('c', 'B'), ('d', 'A')): 0,\n (('c', 'B'), ('d', 'B')): 0,\n (('c', 'B'), ('d', 'AB')): 0,\n (('c', 'B'), ('e', 'None')): 0,\n (('c', 'B'), ('e', 'A')): 0,\n (('c', 'B'), ('e', 'B')): 0,\n (('c', 'B'), ('e', 'AB')): 0,\n (('c', 'AB'), ('o', 'None')): 0,\n (('c', 'AB'), ('o', 'A')): 0,\n (('c', 'AB'), ('o', 'B')): 0,\n (('c', 'AB'), ('o', 'AB')): 0,\n (('c', 'AB'), ('a', 'None')): 0,\n (('c', 'AB'), ('a', 'A')): 0,\n (('c', 'AB'), ('a', 'B')): 0,\n (('c', 'AB'), ('a', 'AB')): 0,\n (('c', 'AB'), ('b', 'None')): 0,\n (('c', 'AB'), ('b', 'A')): 0,\n (('c', 'AB'), ('b', 'B')): 0,\n (('c', 'AB'), ('b', 'AB')): 0,\n (('c', 'AB'), ('c', 'None')): 0,\n (('c', 'AB'), ('c', 'A')): 0,\n (('c', 'AB'), ('c', 'B')): 0,\n (('c', 'AB'), ('c', 'AB')): 1,\n (('c', 'AB'), ('d', 'None')): 0,\n (('c', 'AB'), ('d', 'A')): 0,\n (('c', 'AB'), ('d', 'B')): 0,\n (('c', 'AB'), ('d', 'AB')): 0,\n (('c', 'AB'), ('e', 'None')): 0,\n (('c', 'AB'), ('e', 'A')): 0,\n (('c', 'AB'), ('e', 'B')): 0,\n (('c', 'AB'), ('e', 'AB')): 0,\n (('d', 'None'), ('o', 'None')): 0,\n (('d', 'None'), ('o', 'A')): 0,\n (('d', 'None'), ('o', 'B')): 0,\n (('d', 'None'), ('o', 'AB')): 0,\n (('d', 'None'), ('a', 'None')): 0,\n (('d', 'None'), ('a', 'A')): 0.25,\n (('d', 'None'), ('a', 'B')): 0,\n (('d', 'None'), ('a', 'AB')): 0,\n (('d', 'None'), ('b', 'None')): 0,\n (('d', 'None'), ('b', 'A')): 0,\n (('d', 'None'), ('b', 'B')): 0.25,\n (('d', 'None'), ('b', 'AB')): 0,\n (('d', 'None'), ('c', 'None')): 0,\n (('d', 'None'), ('c', 'A')): 0,\n (('d', 'None'), ('c', 'B')): 0,\n (('d', 'None'), ('c', 'AB')): 0,\n (('d', 'None'), ('d', 'None')): 0,\n (('d', 'None'), ('d', 'A')): 0,\n (('d', 'None'), ('d', 'B')): 0,\n (('d', 'None'), ('d', 'AB')): 0,\n (('d', 'None'), ('e', 'None')): 0,\n (('d', 'None'), ('e', 'A')): 0,\n (('d', 'None'), ('e', 'B')): 0,\n (('d', 'None'), ('e', 'AB')): 0,\n (('d', 'A'), ('o', 'None')): 0,\n (('d', 'A'), ('o', 'A')): 0,\n (('d', 'A'), ('o', 'B')): 0,\n (('d', 'A'), ('o', 'AB')): 0,\n (('d', 'A'), ('a', 'None')): 0,\n (('d', 'A'), ('a', 'A')): 0,\n (('d', 'A'), ('a', 'B')): 0,\n (('d', 'A'), ('a', 'AB')): 0,\n (('d', 'A'), ('b', 'None')): 0,\n (('d', 'A'), ('b', 'A')): 0,\n (('d', 'A'), ('b', 'B')): 0,\n (('d', 'A'), ('b', 'AB')): 0.25,\n (('d', 'A'), ('c', 'None')): 0,\n (('d', 'A'), ('c', 'A')): 0,\n (('d', 'A'), ('c', 'B')): 0,\n (('d', 'A'), ('c', 'AB')): 0,\n (('d', 'A'), ('d', 'None')): 0,\n (('d', 'A'), ('d', 'A')): 0,\n (('d', 'A'), ('d', 'B')): 0,\n (('d', 'A'), ('d', 'AB')): 0,\n (('d', 'A'), ('e', 'None')): 0,\n (('d', 'A'), ('e', 'A')): 0,\n (('d', 'A'), ('e', 'B')): 0,\n (('d', 'A'), ('e', 'AB')): 0,\n (('d', 'B'), ('o', 'None')): 0,\n (('d', 'B'), ('o', 'A')): 0,\n (('d', 'B'), ('o', 'B')): 0,\n (('d', 'B'), ('o', 'AB')): 0,\n (('d', 'B'), ('a', 'None')): 0,\n (('d', 'B'), ('a', 'A')): 0,\n (('d', 'B'), ('a', 'B')): 0,\n (('d', 'B'), ('a', 'AB')): 0.25,\n (('d', 'B'), ('b', 'None')): 0,\n (('d', 'B'), ('b', 'A')): 0,\n (('d', 'B'), ('b', 'B')): 0,\n (('d', 'B'), ('b', 'AB')): 0,\n (('d', 'B'), ('c', 'None')): 0,\n (('d', 'B'), ('c', 'A')): 0,\n (('d', 'B'), ('c', 'B')): 0,\n (('d', 'B'), ('c', 'AB')): 0,\n (('d', 'B'), ('d', 'None')): 0,\n (('d', 'B'), ('d', 'A')): 0,\n (('d', 'B'), ('d', 'B')): 0,\n (('d', 'B'), ('d', 'AB')): 0,\n (('d', 'B'), ('e', 'None')): 0,\n (('d', 'B'), ('e', 'A')): 0,\n (('d', 'B'), ('e', 'B')): 0,\n (('d', 'B'), ('e', 'AB')): 0,\n (('d', 'AB'), ('o', 'None')): 0,\n (('d', 'AB'), ('o', 'A')): 0,\n (('d', 'AB'), ('o', 'B')): 0,\n (('d', 'AB'), ('o', 'AB')): 0,\n (('d', 'AB'), ('a', 'None')): 0,\n (('d', 'AB'), ('a', 'A')): 0,\n (('d', 'AB'), ('a', 'B')): 0,\n (('d', 'AB'), ('a', 'AB')): 0,\n (('d', 'AB'), ('b', 'None')): 0,\n (('d', 'AB'), ('b', 'A')): 0,\n (('d', 'AB'), ('b', 'B')): 0,\n (('d', 'AB'), ('b', 'AB')): 0,\n (('d', 'AB'), ('c', 'None')): 0,\n (('d', 'AB'), ('c', 'A')): 0,\n (('d', 'AB'), ('c', 'B')): 0,\n (('d', 'AB'), ('c', 'AB')): 0,\n (('d', 'AB'), ('d', 'None')): 0,\n (('d', 'AB'), ('d', 'A')): 0,\n (('d', 'AB'), ('d', 'B')): 0,\n (('d', 'AB'), ('d', 'AB')): 1,\n (('d', 'AB'), ('e', 'None')): 0,\n (('d', 'AB'), ('e', 'A')): 0,\n (('d', 'AB'), ('e', 'B')): 0,\n (('d', 'AB'), ('e', 'AB')): 0,\n (('e', 'None'), ('o', 'None')): 0,\n (('e', 'None'), ('o', 'A')): 0.25,\n (('e', 'None'), ('o', 'B')): 0,\n (('e', 'None'), ('o', 'AB')): 0,\n (('e', 'None'), ('a', 'None')): 0,\n (('e', 'None'), ('a', 'A')): 0.25,\n (('e', 'None'), ('a', 'B')): 0,\n (('e', 'None'), ('a', 'AB')): 0,\n (('e', 'None'), ('b', 'None')): 0,\n (('e', 'None'), ('b', 'A')): 0,\n (('e', 'None'), ('b', 'B')): 0,\n (('e', 'None'), ('b', 'AB')): 0,\n (('e', 'None'), ('c', 'None')): 0,\n (('e', 'None'), ('c', 'A')): 0.25,\n (('e', 'None'), ('c', 'B')): 0,\n (('e', 'None'), ('c', 'AB')): 0,\n (('e', 'None'), ('d', 'None')): 0,\n (('e', 'None'), ('d', 'A')): 0.25,\n (('e', 'None'), ('d', 'B')): 0,\n (('e', 'None'), ('d', 'AB')): 0,\n (('e', 'None'), ('e', 'None')): 0,\n (('e', 'None'), ('e', 'A')): 0,\n (('e', 'None'), ('e', 'B')): 0,\n (('e', 'None'), ('e', 'AB')): 0,\n (('e', 'A'), ('o', 'None')): 0,\n (('e', 'A'), ('o', 'A')): 0,\n (('e', 'A'), ('o', 'B')): 0,\n (('e', 'A'), ('o', 'AB')): 0,\n (('e', 'A'), ('a', 'None')): 0,\n (('e', 'A'), ('a', 'A')): 0,\n (('e', 'A'), ('a', 'B')): 0,\n (('e', 'A'), ('a', 'AB')): 0,\n (('e', 'A'), ('b', 'None')): 0,\n (('e', 'A'), ('b', 'A')): 0,\n (('e', 'A'), ('b', 'B')): 0,\n (('e', 'A'), ('b', 'AB')): 0,\n (('e', 'A'), ('c', 'None')): 0,\n (('e', 'A'), ('c', 'A')): 0,\n (('e', 'A'), ('c', 'B')): 0,\n (('e', 'A'), ('c', 'AB')): 0,\n (('e', 'A'), ('d', 'None')): 0,\n (('e', 'A'), ('d', 'A')): 0,\n (('e', 'A'), ('d', 'B')): 0,\n (('e', 'A'), ('d', 'AB')): 0,\n (('e', 'A'), ('e', 'None')): 0,\n (('e', 'A'), ('e', 'A')): 0,\n (('e', 'A'), ('e', 'B')): 0,\n (('e', 'A'), ('e', 'AB')): 0,\n (('e', 'B'), ('o', 'None')): 0,\n (('e', 'B'), ('o', 'A')): 0,\n (('e', 'B'), ('o', 'B')): 0,\n (('e', 'B'), ('o', 'AB')): 0.25,\n (('e', 'B'), ('a', 'None')): 0,\n (('e', 'B'), ('a', 'A')): 0,\n (('e', 'B'), ('a', 'B')): 0,\n (('e', 'B'), ('a', 'AB')): 0.25,\n (('e', 'B'), ('b', 'None')): 0,\n (('e', 'B'), ('b', 'A')): 0,\n (('e', 'B'), ('b', 'B')): 0,\n (('e', 'B'), ('b', 'AB')): 0,\n (('e', 'B'), ('c', 'None')): 0,\n (('e', 'B'), ('c', 'A')): 0,\n (('e', 'B'), ('c', 'B')): 0,\n (('e', 'B'), ('c', 'AB')): 0.25,\n (('e', 'B'), ('d', 'None')): 0,\n (('e', 'B'), ('d', 'A')): 0,\n (('e', 'B'), ('d', 'B')): 0,\n (('e', 'B'), ('d', 'AB')): 0.25,\n (('e', 'B'), ('e', 'None')): 0,\n (('e', 'B'), ('e', 'A')): 0,\n (('e', 'B'), ('e', 'B')): 0,\n (('e', 'B'), ('e', 'AB')): 0,\n (('e', 'AB'), ('o', 'None')): 0,\n (('e', 'AB'), ('o', 'A')): 0,\n (('e', 'AB'), ('o', 'B')): 0,\n (('e', 'AB'), ('o', 'AB')): 0,\n (('e', 'AB'), ('a', 'None')): 0,\n (('e', 'AB'), ('a', 'A')): 0,\n (('e', 'AB'), ('a', 'B')): 0,\n (('e', 'AB'), ('a', 'AB')): 0,\n (('e', 'AB'), ('b', 'None')): 0,\n (('e', 'AB'), ('b', 'A')): 0,\n (('e', 'AB'), ('b', 'B')): 0,\n (('e', 'AB'), ('b', 'AB')): 0,\n (('e', 'AB'), ('c', 'None')): 0,\n (('e', 'AB'), ('c', 'A')): 0,\n (('e', 'AB'), ('c', 'B')): 0,\n (('e', 'AB'), ('c', 'AB')): 0,\n (('e', 'AB'), ('d', 'None')): 0,\n (('e', 'AB'), ('d', 'A')): 0,\n (('e', 'AB'), ('d', 'B')): 0,\n (('e', 'AB'), ('d', 'AB')): 0,\n (('e', 'AB'), ('e', 'None')): 0,\n (('e', 'AB'), ('e', 'A')): 0,\n (('e', 'AB'), ('e', 'B')): 0,\n (('e', 'AB'), ('e', 'AB')): 1}"
     },
     "execution_count": 36,
     "metadata": {},
     "output_type": "execute_result"
    }
   ],
   "source": [
    "augmented_graph_connectivity"
   ],
   "metadata": {
    "collapsed": false,
    "pycharm": {
     "name": "#%%\n"
    }
   }
  },
  {
   "cell_type": "code",
   "execution_count": 41,
   "outputs": [
    {
     "data": {
      "text/plain": "defaultdict(int,\n            {('o', 'None'): 1.0,\n             ('o', 'A'): 1.0,\n             ('o', 'B'): 1.0,\n             ('o', 'AB'): 2.0,\n             ('a', 'None'): 1.0,\n             ('a', 'A'): 1.0,\n             ('a', 'B'): 1.0,\n             ('a', 'AB'): 1,\n             ('b', 'None'): 1.0,\n             ('b', 'A'): 1.0,\n             ('b', 'B'): 1.0,\n             ('b', 'AB'): 1,\n             ('c', 'None'): 1.0,\n             ('c', 'A'): 1.0,\n             ('c', 'B'): 1.0,\n             ('c', 'AB'): 1,\n             ('d', 'None'): 0.5,\n             ('d', 'A'): 0.25,\n             ('d', 'B'): 0.25,\n             ('d', 'AB'): 1,\n             ('e', 'None'): 1.0,\n             ('e', 'A'): 1.0,\n             ('e', 'B'): 1.0,\n             ('e', 'AB'): 1})"
     },
     "execution_count": 41,
     "metadata": {},
     "output_type": "execute_result"
    }
   ],
   "source": [
    "from collections import defaultdict\n",
    "\n",
    "# Initialize a defaultdict to store the sums\n",
    "sum_dict = defaultdict(int)\n",
    "\n",
    "# Sum values based on the first item of the tuple key\n",
    "for key, value in augmented_graph_connectivity.items():\n",
    "    first_item = key[0]  # Get the first item of the tuple key\n",
    "    sum_dict[first_item] += value  # Add the value to the corresponding entry in sum_dict\n",
    "\n",
    "sum_dict"
   ],
   "metadata": {
    "collapsed": false,
    "pycharm": {
     "name": "#%%\n"
    }
   }
  },
  {
   "cell_type": "code",
   "execution_count": null,
   "outputs": [],
   "source": [],
   "metadata": {
    "collapsed": false,
    "pycharm": {
     "name": "#%%\n"
    }
   }
  }
 ],
 "metadata": {
  "kernelspec": {
   "display_name": "Python 3",
   "language": "python",
   "name": "python3"
  },
  "language_info": {
   "codemirror_mode": {
    "name": "ipython",
    "version": 2
   },
   "file_extension": ".py",
   "mimetype": "text/x-python",
   "name": "python",
   "nbconvert_exporter": "python",
   "pygments_lexer": "ipython2",
   "version": "2.7.6"
  }
 },
 "nbformat": 4,
 "nbformat_minor": 0
}